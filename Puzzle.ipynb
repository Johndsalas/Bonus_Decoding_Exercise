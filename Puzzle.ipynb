{
 "cells": [
  {
   "cell_type": "markdown",
   "id": "selective-confidentiality",
   "metadata": {},
   "source": [
    "# Write functions that perform the perscribed string opperations and run the puzzle string through each function in order to decrypt the hidden message"
   ]
  },
  {
   "cell_type": "code",
   "execution_count": 1,
   "id": "fresh-sound",
   "metadata": {},
   "outputs": [],
   "source": [
    "puzzle_string = 'o*o^o!o*o*k%k&k$k%k%p$p!p*p!p$t!t%t!t#t#b#b#b&b^b#x$x!x%x*x&@d#d*d$d#d$s$s^s#s$s%b#b*b$b*b^o%o&o%o&o$v#v&v#v%v#q#q*q^q^q*e^e!e&e#e%f&f^f%f$f%k$k*k*k#k&b%b!b^b$b$@b*b*b&b#b#e*e#e%e^e&q*q$q$q&q$@b^b%b%b#b^k$k$k!k^k!f!f#f$f*f%s*s#s*s#s&b#b*b*b*b^o#o!o%o*o$p#p%p!p^p&r#r$r!r!r$@l%l#l^l#l#q$q&q^q#q%@b^b%b#b$b^f%f*f&f&f%c$c*c&c*c$i*i&i^i#i!@b%b#b%b^b*e%e#e$e%e*q!q!q*q&q&@a*a$a^a!a!k#k$k^k^k$x$x%x%x*x^'"
   ]
  },
  {
   "cell_type": "markdown",
   "id": "synthetic-motion",
   "metadata": {},
   "source": [
    "#### 1) Write a function that accepts the puzzle string and returns that value with the all non_letter characters removed. Each '@' should be replaced by a space character."
   ]
  },
  {
   "cell_type": "code",
   "execution_count": null,
   "id": "short-disco",
   "metadata": {},
   "outputs": [],
   "source": []
  },
  {
   "cell_type": "markdown",
   "id": "altered-boards",
   "metadata": {},
   "source": [
    "#### 2) Write a function that accepts the puzzle string and returns that value where every five repeating characters are are condensed into one. Example \"kkkkklllll\" will return as \"kl\""
   ]
  },
  {
   "cell_type": "code",
   "execution_count": null,
   "id": "executed-functionality",
   "metadata": {},
   "outputs": [],
   "source": []
  },
  {
   "cell_type": "markdown",
   "id": "subsequent-advocacy",
   "metadata": {},
   "source": [
    "#### 3) Write a function that takes in the puzzle string and returns that value with the characters in the string in reverse order."
   ]
  },
  {
   "cell_type": "code",
   "execution_count": null,
   "id": "instrumental-invalid",
   "metadata": {},
   "outputs": [],
   "source": []
  },
  {
   "cell_type": "markdown",
   "id": "remarkable-oriental",
   "metadata": {},
   "source": [
    "#### 4) Write a function that takes the puzzle string and returns that value with each letter in the string changed into the letter 3 letters to the right of it in the alphabet. For Example ‘b’ is one letter to the right ‘a’ and three letters to the left of ‘e.’ 'a' is one letter to the right of 'z' ect.."
   ]
  },
  {
   "cell_type": "code",
   "execution_count": null,
   "id": "crazy-kentucky",
   "metadata": {},
   "outputs": [],
   "source": []
  },
  {
   "cell_type": "markdown",
   "id": "brown-deadline",
   "metadata": {},
   "source": [
    "#### 5) Write a function that takes in the puzzle string and returns that value with the first and last words of the string transposed. Example: \"I love python\" returns \"python love I.\""
   ]
  },
  {
   "cell_type": "code",
   "execution_count": null,
   "id": "separated-mixture",
   "metadata": {},
   "outputs": [],
   "source": []
  },
  {
   "cell_type": "markdown",
   "id": "competitive-flavor",
   "metadata": {},
   "source": [
    "#### 6) Write a function the takes in the puzzle string and returns that with each pair of words transposed. if the string has an odd number of words the last word in the string should remain the last word in the string. For example \"I love coding in python\" should return \"love I in coding python.\""
   ]
  },
  {
   "cell_type": "code",
   "execution_count": null,
   "id": "geological-governor",
   "metadata": {},
   "outputs": [],
   "source": []
  },
  {
   "cell_type": "markdown",
   "id": "jewish-vietnamese",
   "metadata": {},
   "source": [
    "#### 7) Write a function that takes in the puzzle string and returns that value with the first and last letters of each word transposed. One letter words should remain unchanged. For example \"git push everyday\" should return \"tig husp yverydae.\""
   ]
  },
  {
   "cell_type": "code",
   "execution_count": null,
   "id": "built-tuning",
   "metadata": {},
   "outputs": [],
   "source": []
  },
  {
   "cell_type": "markdown",
   "id": "turned-adventure",
   "metadata": {},
   "source": [
    "#### 8) Run the puzzle string through each of your functions in order to decript the hidden message."
   ]
  },
  {
   "cell_type": "code",
   "execution_count": null,
   "id": "cooperative-multiple",
   "metadata": {},
   "outputs": [],
   "source": []
  }
 ],
 "metadata": {
  "kernelspec": {
   "display_name": "Python 3",
   "language": "python",
   "name": "python3"
  },
  "language_info": {
   "codemirror_mode": {
    "name": "ipython",
    "version": 3
   },
   "file_extension": ".py",
   "mimetype": "text/x-python",
   "name": "python",
   "nbconvert_exporter": "python",
   "pygments_lexer": "ipython3",
   "version": "3.7.4"
  }
 },
 "nbformat": 4,
 "nbformat_minor": 5
}
